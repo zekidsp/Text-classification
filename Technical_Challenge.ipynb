{
 "cells": [
  {
   "cell_type": "markdown",
   "id": "9634cfa1",
   "metadata": {},
   "source": [
    "# CodeLabs Academy Technical Challange"
   ]
  },
  {
   "cell_type": "code",
   "execution_count": null,
   "id": "1cdc56b2",
   "metadata": {},
   "outputs": [],
   "source": [
    "#install some packages if not already installed\n",
    "!pip install pandas\n",
    "!pip install seaborn \n",
    "!pip install contractions\n",
    "!pip install textblob"
   ]
  },
  {
   "cell_type": "code",
   "execution_count": 1,
   "id": "ee033f2f",
   "metadata": {},
   "outputs": [],
   "source": [
    "# Import the libraries required for performing EDA \n",
    "import numpy as np\n",
    "import pandas as pd\n",
    "import matplotlib.pyplot as plt\n",
    "import seaborn as sns"
   ]
  },
  {
   "cell_type": "code",
   "execution_count": 1,
   "id": "5edd52da",
   "metadata": {},
   "outputs": [
    {
     "name": "stdout",
     "output_type": "stream",
     "text": [
      "2.6.2\n"
     ]
    }
   ],
   "source": [
    "import tensorflow as tf\n",
    "print(tf.__version__)"
   ]
  },
  {
   "cell_type": "markdown",
   "id": "0ef8394a",
   "metadata": {},
   "source": [
    "## Exploratory Data Analysis (EDA)"
   ]
  },
  {
   "cell_type": "markdown",
   "id": "6d23b269",
   "metadata": {},
   "source": [
    "### Download dataset"
   ]
  },
  {
   "cell_type": "code",
   "execution_count": null,
   "id": "03ec89c9",
   "metadata": {},
   "outputs": [],
   "source": [
    "!wget https://s3.amazonaws.com/fast-ai-nlp/yelp_review_full_csv.tgz\n",
    "!tar -xvf /content/yelp_review_full_csv.tgz "
   ]
  },
  {
   "cell_type": "markdown",
   "id": "9e479ba1",
   "metadata": {},
   "source": [
    "### Reading Data"
   ]
  },
  {
   "cell_type": "code",
   "execution_count": 2,
   "id": "10a743ad",
   "metadata": {},
   "outputs": [],
   "source": [
    "# Read the data from csv files as Pandas DataFrame\n",
    "df_train = pd.read_csv('yelp_review_full_csv/train.csv', header = None)\n",
    "df_test = pd.read_csv('yelp_review_full_csv/test.csv', header = None)"
   ]
  },
  {
   "cell_type": "code",
   "execution_count": 3,
   "id": "f1794a84",
   "metadata": {},
   "outputs": [
    {
     "data": {
      "text/html": [
       "<div>\n",
       "<style scoped>\n",
       "    .dataframe tbody tr th:only-of-type {\n",
       "        vertical-align: middle;\n",
       "    }\n",
       "\n",
       "    .dataframe tbody tr th {\n",
       "        vertical-align: top;\n",
       "    }\n",
       "\n",
       "    .dataframe thead th {\n",
       "        text-align: right;\n",
       "    }\n",
       "</style>\n",
       "<table border=\"1\" class=\"dataframe\">\n",
       "  <thead>\n",
       "    <tr style=\"text-align: right;\">\n",
       "      <th></th>\n",
       "      <th>0</th>\n",
       "      <th>1</th>\n",
       "    </tr>\n",
       "  </thead>\n",
       "  <tbody>\n",
       "    <tr>\n",
       "      <th>0</th>\n",
       "      <td>5</td>\n",
       "      <td>dr. goldberg offers everything i look for in a...</td>\n",
       "    </tr>\n",
       "    <tr>\n",
       "      <th>1</th>\n",
       "      <td>2</td>\n",
       "      <td>Unfortunately, the frustration of being Dr. Go...</td>\n",
       "    </tr>\n",
       "    <tr>\n",
       "      <th>2</th>\n",
       "      <td>4</td>\n",
       "      <td>Been going to Dr. Goldberg for over 10 years. ...</td>\n",
       "    </tr>\n",
       "    <tr>\n",
       "      <th>3</th>\n",
       "      <td>4</td>\n",
       "      <td>Got a letter in the mail last week that said D...</td>\n",
       "    </tr>\n",
       "    <tr>\n",
       "      <th>4</th>\n",
       "      <td>1</td>\n",
       "      <td>I don't know what Dr. Goldberg was like before...</td>\n",
       "    </tr>\n",
       "  </tbody>\n",
       "</table>\n",
       "</div>"
      ],
      "text/plain": [
       "   0                                                  1\n",
       "0  5  dr. goldberg offers everything i look for in a...\n",
       "1  2  Unfortunately, the frustration of being Dr. Go...\n",
       "2  4  Been going to Dr. Goldberg for over 10 years. ...\n",
       "3  4  Got a letter in the mail last week that said D...\n",
       "4  1  I don't know what Dr. Goldberg was like before..."
      ]
     },
     "execution_count": 3,
     "metadata": {},
     "output_type": "execute_result"
    }
   ],
   "source": [
    "# Let's look at the general structure of the dataset over the first few rows.\n",
    "df_train.head()"
   ]
  },
  {
   "cell_type": "code",
   "execution_count": 4,
   "id": "2d3b628c",
   "metadata": {},
   "outputs": [
    {
     "data": {
      "text/html": [
       "<div>\n",
       "<style scoped>\n",
       "    .dataframe tbody tr th:only-of-type {\n",
       "        vertical-align: middle;\n",
       "    }\n",
       "\n",
       "    .dataframe tbody tr th {\n",
       "        vertical-align: top;\n",
       "    }\n",
       "\n",
       "    .dataframe thead th {\n",
       "        text-align: right;\n",
       "    }\n",
       "</style>\n",
       "<table border=\"1\" class=\"dataframe\">\n",
       "  <thead>\n",
       "    <tr style=\"text-align: right;\">\n",
       "      <th></th>\n",
       "      <th>Star</th>\n",
       "      <th>Review</th>\n",
       "    </tr>\n",
       "  </thead>\n",
       "  <tbody>\n",
       "    <tr>\n",
       "      <th>0</th>\n",
       "      <td>5</td>\n",
       "      <td>dr. goldberg offers everything i look for in a...</td>\n",
       "    </tr>\n",
       "    <tr>\n",
       "      <th>1</th>\n",
       "      <td>2</td>\n",
       "      <td>Unfortunately, the frustration of being Dr. Go...</td>\n",
       "    </tr>\n",
       "    <tr>\n",
       "      <th>2</th>\n",
       "      <td>4</td>\n",
       "      <td>Been going to Dr. Goldberg for over 10 years. ...</td>\n",
       "    </tr>\n",
       "    <tr>\n",
       "      <th>3</th>\n",
       "      <td>4</td>\n",
       "      <td>Got a letter in the mail last week that said D...</td>\n",
       "    </tr>\n",
       "    <tr>\n",
       "      <th>4</th>\n",
       "      <td>1</td>\n",
       "      <td>I don't know what Dr. Goldberg was like before...</td>\n",
       "    </tr>\n",
       "  </tbody>\n",
       "</table>\n",
       "</div>"
      ],
      "text/plain": [
       "   Star                                             Review\n",
       "0     5  dr. goldberg offers everything i look for in a...\n",
       "1     2  Unfortunately, the frustration of being Dr. Go...\n",
       "2     4  Been going to Dr. Goldberg for over 10 years. ...\n",
       "3     4  Got a letter in the mail last week that said D...\n",
       "4     1  I don't know what Dr. Goldberg was like before..."
      ]
     },
     "execution_count": 4,
     "metadata": {},
     "output_type": "execute_result"
    }
   ],
   "source": [
    "# As seen above, there is no header in the dataset. So lets add a header for each column and look at again. \n",
    "df_train.columns = [\"Star\", \"Review\"]\n",
    "df_test.columns = [\"Star\", \"Review\"]\n",
    "df_train.head()"
   ]
  },
  {
   "cell_type": "markdown",
   "id": "e04b59b6",
   "metadata": {},
   "source": [
    "### Adding new column \n",
    "There are two columns in the dataset, which are Star and Review. Before performing EDA in detail, I would like to add another column that contains the number of words in the reviews "
   ]
  },
  {
   "cell_type": "code",
   "execution_count": 5,
   "id": "5e6028db",
   "metadata": {},
   "outputs": [
    {
     "data": {
      "text/html": [
       "<div>\n",
       "<style scoped>\n",
       "    .dataframe tbody tr th:only-of-type {\n",
       "        vertical-align: middle;\n",
       "    }\n",
       "\n",
       "    .dataframe tbody tr th {\n",
       "        vertical-align: top;\n",
       "    }\n",
       "\n",
       "    .dataframe thead th {\n",
       "        text-align: right;\n",
       "    }\n",
       "</style>\n",
       "<table border=\"1\" class=\"dataframe\">\n",
       "  <thead>\n",
       "    <tr style=\"text-align: right;\">\n",
       "      <th></th>\n",
       "      <th>Star</th>\n",
       "      <th>Review</th>\n",
       "      <th>word_count</th>\n",
       "    </tr>\n",
       "  </thead>\n",
       "  <tbody>\n",
       "    <tr>\n",
       "      <th>0</th>\n",
       "      <td>5</td>\n",
       "      <td>dr. goldberg offers everything i look for in a...</td>\n",
       "      <td>93</td>\n",
       "    </tr>\n",
       "    <tr>\n",
       "      <th>1</th>\n",
       "      <td>2</td>\n",
       "      <td>Unfortunately, the frustration of being Dr. Go...</td>\n",
       "      <td>115</td>\n",
       "    </tr>\n",
       "    <tr>\n",
       "      <th>2</th>\n",
       "      <td>4</td>\n",
       "      <td>Been going to Dr. Goldberg for over 10 years. ...</td>\n",
       "      <td>97</td>\n",
       "    </tr>\n",
       "    <tr>\n",
       "      <th>3</th>\n",
       "      <td>4</td>\n",
       "      <td>Got a letter in the mail last week that said D...</td>\n",
       "      <td>53</td>\n",
       "    </tr>\n",
       "    <tr>\n",
       "      <th>4</th>\n",
       "      <td>1</td>\n",
       "      <td>I don't know what Dr. Goldberg was like before...</td>\n",
       "      <td>211</td>\n",
       "    </tr>\n",
       "  </tbody>\n",
       "</table>\n",
       "</div>"
      ],
      "text/plain": [
       "   Star                                             Review  word_count\n",
       "0     5  dr. goldberg offers everything i look for in a...          93\n",
       "1     2  Unfortunately, the frustration of being Dr. Go...         115\n",
       "2     4  Been going to Dr. Goldberg for over 10 years. ...          97\n",
       "3     4  Got a letter in the mail last week that said D...          53\n",
       "4     1  I don't know what Dr. Goldberg was like before...         211"
      ]
     },
     "execution_count": 5,
     "metadata": {},
     "output_type": "execute_result"
    }
   ],
   "source": [
    "# Count the number of words in the reviews and add as a new column for the train dataset\n",
    "count_train = df_train.iloc[:,1].str.split().str.len()\n",
    "df_train['word_count'] = count_train.values\n",
    "df_train.head()"
   ]
  },
  {
   "cell_type": "code",
   "execution_count": 6,
   "id": "ef81aafd",
   "metadata": {},
   "outputs": [
    {
     "data": {
      "text/html": [
       "<div>\n",
       "<style scoped>\n",
       "    .dataframe tbody tr th:only-of-type {\n",
       "        vertical-align: middle;\n",
       "    }\n",
       "\n",
       "    .dataframe tbody tr th {\n",
       "        vertical-align: top;\n",
       "    }\n",
       "\n",
       "    .dataframe thead th {\n",
       "        text-align: right;\n",
       "    }\n",
       "</style>\n",
       "<table border=\"1\" class=\"dataframe\">\n",
       "  <thead>\n",
       "    <tr style=\"text-align: right;\">\n",
       "      <th></th>\n",
       "      <th>Star</th>\n",
       "      <th>Review</th>\n",
       "      <th>word_count</th>\n",
       "    </tr>\n",
       "  </thead>\n",
       "  <tbody>\n",
       "    <tr>\n",
       "      <th>0</th>\n",
       "      <td>1</td>\n",
       "      <td>I got 'new' tires from them and within two wee...</td>\n",
       "      <td>151</td>\n",
       "    </tr>\n",
       "    <tr>\n",
       "      <th>1</th>\n",
       "      <td>1</td>\n",
       "      <td>Don't waste your time.  We had two different p...</td>\n",
       "      <td>39</td>\n",
       "    </tr>\n",
       "    <tr>\n",
       "      <th>2</th>\n",
       "      <td>1</td>\n",
       "      <td>All I can say is the worst! We were the only 2...</td>\n",
       "      <td>178</td>\n",
       "    </tr>\n",
       "    <tr>\n",
       "      <th>3</th>\n",
       "      <td>1</td>\n",
       "      <td>I have been to this restaurant twice and was d...</td>\n",
       "      <td>223</td>\n",
       "    </tr>\n",
       "    <tr>\n",
       "      <th>4</th>\n",
       "      <td>1</td>\n",
       "      <td>Food was NOT GOOD at all! My husband &amp; I ate h...</td>\n",
       "      <td>168</td>\n",
       "    </tr>\n",
       "  </tbody>\n",
       "</table>\n",
       "</div>"
      ],
      "text/plain": [
       "   Star                                             Review  word_count\n",
       "0     1  I got 'new' tires from them and within two wee...         151\n",
       "1     1  Don't waste your time.  We had two different p...          39\n",
       "2     1  All I can say is the worst! We were the only 2...         178\n",
       "3     1  I have been to this restaurant twice and was d...         223\n",
       "4     1  Food was NOT GOOD at all! My husband & I ate h...         168"
      ]
     },
     "execution_count": 6,
     "metadata": {},
     "output_type": "execute_result"
    }
   ],
   "source": [
    "# Similarly, perform the same operation for the test dataset\n",
    "count_test = df_test.iloc[:,1].str.split().str.len()\n",
    "df_test['word_count'] = count_test.values\n",
    "df_test.head()\n"
   ]
  },
  {
   "cell_type": "markdown",
   "id": "0017ecdd",
   "metadata": {},
   "source": [
    "### Descriptive statistics"
   ]
  },
  {
   "cell_type": "code",
   "execution_count": 17,
   "id": "51adfa51",
   "metadata": {},
   "outputs": [
    {
     "data": {
      "text/html": [
       "<div>\n",
       "<style scoped>\n",
       "    .dataframe tbody tr th:only-of-type {\n",
       "        vertical-align: middle;\n",
       "    }\n",
       "\n",
       "    .dataframe tbody tr th {\n",
       "        vertical-align: top;\n",
       "    }\n",
       "\n",
       "    .dataframe thead th {\n",
       "        text-align: right;\n",
       "    }\n",
       "</style>\n",
       "<table border=\"1\" class=\"dataframe\">\n",
       "  <thead>\n",
       "    <tr style=\"text-align: right;\">\n",
       "      <th></th>\n",
       "      <th>Star</th>\n",
       "      <th>Review</th>\n",
       "      <th>word_count</th>\n",
       "    </tr>\n",
       "  </thead>\n",
       "  <tbody>\n",
       "    <tr>\n",
       "      <th>count</th>\n",
       "      <td>650000.000000</td>\n",
       "      <td>650000</td>\n",
       "      <td>650000.000000</td>\n",
       "    </tr>\n",
       "    <tr>\n",
       "      <th>unique</th>\n",
       "      <td>NaN</td>\n",
       "      <td>650000</td>\n",
       "      <td>NaN</td>\n",
       "    </tr>\n",
       "    <tr>\n",
       "      <th>top</th>\n",
       "      <td>NaN</td>\n",
       "      <td>A beach club is where you go to be seen. It's ...</td>\n",
       "      <td>NaN</td>\n",
       "    </tr>\n",
       "    <tr>\n",
       "      <th>freq</th>\n",
       "      <td>NaN</td>\n",
       "      <td>1</td>\n",
       "      <td>NaN</td>\n",
       "    </tr>\n",
       "    <tr>\n",
       "      <th>mean</th>\n",
       "      <td>3.000000</td>\n",
       "      <td>NaN</td>\n",
       "      <td>134.098089</td>\n",
       "    </tr>\n",
       "    <tr>\n",
       "      <th>std</th>\n",
       "      <td>1.414215</td>\n",
       "      <td>NaN</td>\n",
       "      <td>121.396115</td>\n",
       "    </tr>\n",
       "    <tr>\n",
       "      <th>min</th>\n",
       "      <td>1.000000</td>\n",
       "      <td>NaN</td>\n",
       "      <td>1.000000</td>\n",
       "    </tr>\n",
       "    <tr>\n",
       "      <th>25%</th>\n",
       "      <td>2.000000</td>\n",
       "      <td>NaN</td>\n",
       "      <td>52.000000</td>\n",
       "    </tr>\n",
       "    <tr>\n",
       "      <th>50%</th>\n",
       "      <td>3.000000</td>\n",
       "      <td>NaN</td>\n",
       "      <td>99.000000</td>\n",
       "    </tr>\n",
       "    <tr>\n",
       "      <th>75%</th>\n",
       "      <td>4.000000</td>\n",
       "      <td>NaN</td>\n",
       "      <td>175.000000</td>\n",
       "    </tr>\n",
       "    <tr>\n",
       "      <th>max</th>\n",
       "      <td>5.000000</td>\n",
       "      <td>NaN</td>\n",
       "      <td>1052.000000</td>\n",
       "    </tr>\n",
       "  </tbody>\n",
       "</table>\n",
       "</div>"
      ],
      "text/plain": [
       "                 Star                                             Review  \\\n",
       "count   650000.000000                                             650000   \n",
       "unique            NaN                                             650000   \n",
       "top               NaN  A beach club is where you go to be seen. It's ...   \n",
       "freq              NaN                                                  1   \n",
       "mean         3.000000                                                NaN   \n",
       "std          1.414215                                                NaN   \n",
       "min          1.000000                                                NaN   \n",
       "25%          2.000000                                                NaN   \n",
       "50%          3.000000                                                NaN   \n",
       "75%          4.000000                                                NaN   \n",
       "max          5.000000                                                NaN   \n",
       "\n",
       "           word_count  \n",
       "count   650000.000000  \n",
       "unique            NaN  \n",
       "top               NaN  \n",
       "freq              NaN  \n",
       "mean       134.098089  \n",
       "std        121.396115  \n",
       "min          1.000000  \n",
       "25%         52.000000  \n",
       "50%         99.000000  \n",
       "75%        175.000000  \n",
       "max       1052.000000  "
      ]
     },
     "execution_count": 17,
     "metadata": {},
     "output_type": "execute_result"
    }
   ],
   "source": [
    "# Look at descriptive statistic parameters for the enhanced dataset\n",
    "df_train.describe(include='all')"
   ]
  },
  {
   "cell_type": "code",
   "execution_count": 18,
   "id": "6614eab3",
   "metadata": {},
   "outputs": [
    {
     "data": {
      "text/html": [
       "<div>\n",
       "<style scoped>\n",
       "    .dataframe tbody tr th:only-of-type {\n",
       "        vertical-align: middle;\n",
       "    }\n",
       "\n",
       "    .dataframe tbody tr th {\n",
       "        vertical-align: top;\n",
       "    }\n",
       "\n",
       "    .dataframe thead th {\n",
       "        text-align: right;\n",
       "    }\n",
       "</style>\n",
       "<table border=\"1\" class=\"dataframe\">\n",
       "  <thead>\n",
       "    <tr style=\"text-align: right;\">\n",
       "      <th></th>\n",
       "      <th>Star</th>\n",
       "      <th>Review</th>\n",
       "      <th>word_count</th>\n",
       "    </tr>\n",
       "  </thead>\n",
       "  <tbody>\n",
       "    <tr>\n",
       "      <th>count</th>\n",
       "      <td>50000.000000</td>\n",
       "      <td>50000</td>\n",
       "      <td>50000.000000</td>\n",
       "    </tr>\n",
       "    <tr>\n",
       "      <th>unique</th>\n",
       "      <td>NaN</td>\n",
       "      <td>50000</td>\n",
       "      <td>NaN</td>\n",
       "    </tr>\n",
       "    <tr>\n",
       "      <th>top</th>\n",
       "      <td>NaN</td>\n",
       "      <td>Going to Padre Murphy's on Fridays for Fish an...</td>\n",
       "      <td>NaN</td>\n",
       "    </tr>\n",
       "    <tr>\n",
       "      <th>freq</th>\n",
       "      <td>NaN</td>\n",
       "      <td>1</td>\n",
       "      <td>NaN</td>\n",
       "    </tr>\n",
       "    <tr>\n",
       "      <th>mean</th>\n",
       "      <td>3.000000</td>\n",
       "      <td>NaN</td>\n",
       "      <td>134.290980</td>\n",
       "    </tr>\n",
       "    <tr>\n",
       "      <th>std</th>\n",
       "      <td>1.414228</td>\n",
       "      <td>NaN</td>\n",
       "      <td>121.246345</td>\n",
       "    </tr>\n",
       "    <tr>\n",
       "      <th>min</th>\n",
       "      <td>1.000000</td>\n",
       "      <td>NaN</td>\n",
       "      <td>1.000000</td>\n",
       "    </tr>\n",
       "    <tr>\n",
       "      <th>25%</th>\n",
       "      <td>2.000000</td>\n",
       "      <td>NaN</td>\n",
       "      <td>53.000000</td>\n",
       "    </tr>\n",
       "    <tr>\n",
       "      <th>50%</th>\n",
       "      <td>3.000000</td>\n",
       "      <td>NaN</td>\n",
       "      <td>99.000000</td>\n",
       "    </tr>\n",
       "    <tr>\n",
       "      <th>75%</th>\n",
       "      <td>4.000000</td>\n",
       "      <td>NaN</td>\n",
       "      <td>176.000000</td>\n",
       "    </tr>\n",
       "    <tr>\n",
       "      <th>max</th>\n",
       "      <td>5.000000</td>\n",
       "      <td>NaN</td>\n",
       "      <td>1009.000000</td>\n",
       "    </tr>\n",
       "  </tbody>\n",
       "</table>\n",
       "</div>"
      ],
      "text/plain": [
       "                Star                                             Review  \\\n",
       "count   50000.000000                                              50000   \n",
       "unique           NaN                                              50000   \n",
       "top              NaN  Going to Padre Murphy's on Fridays for Fish an...   \n",
       "freq             NaN                                                  1   \n",
       "mean        3.000000                                                NaN   \n",
       "std         1.414228                                                NaN   \n",
       "min         1.000000                                                NaN   \n",
       "25%         2.000000                                                NaN   \n",
       "50%         3.000000                                                NaN   \n",
       "75%         4.000000                                                NaN   \n",
       "max         5.000000                                                NaN   \n",
       "\n",
       "          word_count  \n",
       "count   50000.000000  \n",
       "unique           NaN  \n",
       "top              NaN  \n",
       "freq             NaN  \n",
       "mean      134.290980  \n",
       "std       121.246345  \n",
       "min         1.000000  \n",
       "25%        53.000000  \n",
       "50%        99.000000  \n",
       "75%       176.000000  \n",
       "max      1009.000000  "
      ]
     },
     "execution_count": 18,
     "metadata": {},
     "output_type": "execute_result"
    }
   ],
   "source": [
    "df_test.describe(include='all')"
   ]
  },
  {
   "cell_type": "code",
   "execution_count": 19,
   "id": "b5013c73",
   "metadata": {},
   "outputs": [
    {
     "name": "stdout",
     "output_type": "stream",
     "text": [
      "Star          0\n",
      "Review        0\n",
      "word_count    0\n",
      "dtype: int64\n",
      "Star          0\n",
      "Review        0\n",
      "word_count    0\n",
      "dtype: int64\n"
     ]
    }
   ],
   "source": [
    "# check for missing values in the dataset\n",
    "print(df_train.isnull().shttp://localhost:8888/notebooks/Technical_Challenge.ipynb#Visual-Representationum())\n",
    "print(df_test.isnull().sum())"
   ]
  },
  {
   "cell_type": "markdown",
   "id": "af1e7f7c",
   "metadata": {},
   "source": [
    "### Visual Representation"
   ]
  },
  {
   "cell_type": "code",
   "execution_count": 20,
   "id": "7acaf50b",
   "metadata": {},
   "outputs": [
    {
     "data": {
      "image/png": "[encoded data removed]",
      "text/plain": [
       "<Figure size 1152x648 with 4 Axes>"
      ]
     },
     "metadata": {
      "needs_background": "light"
     },
     "output_type": "display_data"
    }
   ],
   "source": [
    "plt.subplot(221)\n",
    "df_train['Star'].value_counts().plot(kind='bar', title='Stars (Train dataset)', figsize=(16,9)) \n",
    "plt.xticks(rotation=0)\n",
    "plt.subplot(222)\n",
    "df_train['word_count'].hist(bins=50)\n",
    "plt.title('Word Count (Train dataset)')\n",
    "plt.subplot(223)\n",
    "df_test['Star'].value_counts().plot(kind='bar', title='Stars (Test dataset)', figsize=(16,9)) \n",
    "plt.xticks(rotation=0)\n",
    "plt.subplot(224)\n",
    "df_test['word_count'].hist(bins=50)\n",
    "plt.title('Word Count (Test dataset)')\n",
    "plt.show()"
   ]
  },
  {
   "cell_type": "code",
   "execution_count": 21,
   "id": "058ff2b7",
   "metadata": {},
   "outputs": [
    {
     "data": {
      "text/plain": [
       "<AxesSubplot:>"
      ]
     },
     "execution_count": 21,
     "metadata": {},
     "output_type": "execute_result"
    },
    {
     "data": {
      "image/png": "[encoded data removed]",
      "text/plain": [
       "<Figure size 432x288 with 1 Axes>"
      ]
     },
     "metadata": {
      "needs_background": "light"
     },
     "output_type": "display_data"
    }
   ],
   "source": [
    "df_train.boxplot()"
   ]
  },
  {
   "cell_type": "code",
   "execution_count": 22,
   "id": "3de218c3",
   "metadata": {},
   "outputs": [
    {
     "data": {
      "text/plain": [
       "<seaborn.axisgrid.FacetGrid at 0x7f1068198198>"
      ]
     },
     "execution_count": 22,
     "metadata": {},
     "output_type": "execute_result"
    },
    {
     "data": {
      "image/png": "[encoded data removed]",
      "text/plain": [
       "<Figure size 360x360 with 1 Axes>"
      ]
     },
     "metadata": {
      "needs_background": "light"
     },
     "output_type": "display_data"
    }
   ],
   "source": [
    "# An alternative way of plotting histogram \n",
    "sns.displot(df_train['word_count'])"
   ]
  },
  {
   "cell_type": "code",
   "execution_count": 23,
   "id": "7aca7dc1",
   "metadata": {},
   "outputs": [
    {
     "data": {
      "image/png": "[encoded data removed]",
      "text/plain": [
       "<Figure size 432x288 with 2 Axes>"
      ]
     },
     "metadata": {
      "needs_background": "light"
     },
     "output_type": "display_data"
    }
   ],
   "source": [
    "# Lets investigate if there is any correlation between star column and word_count column. \n",
    "correlation = df_train.corr()\n",
    "sns.heatmap(correlation, annot=True, square=True)\n",
    "plt.yticks(rotation=0)\n",
    "plt.show()\n",
    "#The heatmap below indicates that there is no correlation between star column and word_count column \n",
    "# as the correlatlon coefficient is -0.14.   "
   ]
  },
  {
   "cell_type": "markdown",
   "id": "611da741",
   "metadata": {},
   "source": [
    "## Text Classification using Deep Learning "
   ]
  },
  {
   "cell_type": "markdown",
   "id": "ff859b85",
   "metadata": {},
   "source": [
    "### Data Preprocessing\n",
    "Why are we doing this? We will use word embeddings (word2vec) to encode text-based words into numbers. This is necessary because ML/DL algorithms perform their mathematical operations on numbers rather than text. Pre-trained word embeddings usually clean their text dataset from special characters, punctuation and numbers before generating corresponding embeddings. Therefore, we perform similar operations on our dataset to match perfectly with  embeddings.  "
   ]
  },
  {
   "cell_type": "code",
   "execution_count": 7,
   "id": "11ead81e",
   "metadata": {},
   "outputs": [],
   "source": [
    "# Step-1: Cleaning special characters, punctuation and new line symbols\n",
    "# We can use regex for this purpose\n",
    "import re\n",
    "def clean_text(x):\n",
    "    pattern = '[^a-zA-z0-9 ]+'\n",
    "    text = re.sub(pattern, '', x)\n",
    "    text = text.replace(\"\\\\n\", \"\") # removes new line with double backslashes\n",
    "    text = text.replace(\"\\\\\", \"\") # removes double backslashes\n",
    "    return text"
   ]
  },
  {
   "cell_type": "code",
   "execution_count": 8,
   "id": "726ed763",
   "metadata": {},
   "outputs": [
    {
     "data": {
      "text/plain": [
       "'I got \\'new\\' tires from them and within two weeks got a flat. I took my car to a local mechanic to see if i could get the hole patched, but they said the reason I had a flat was because the previous patch had blown - WAIT, WHAT? I just got the tire and never needed to have it patched? This was supposed to be a new tire. \\\\nI took the tire over to Flynn\\'s and they told me that someone punctured my tire, then tried to patch it. So there are resentful tire slashers? I find that very unlikely. After arguing with the guy and telling him that his logic was far fetched he said he\\'d give me a new tire \\\\\"this time\\\\\". \\\\nI will never go back to Flynn\\'s b/c of the way this guy treated me and the simple fact that they gave me a used tire!'"
      ]
     },
     "execution_count": 8,
     "metadata": {},
     "output_type": "execute_result"
    }
   ],
   "source": [
    "#Lets test it on the first review of the test dataset. First print the original text\n",
    "df_test['Review'].iloc[0:1].values[0]"
   ]
  },
  {
   "cell_type": "code",
   "execution_count": 9,
   "id": "bd446271",
   "metadata": {},
   "outputs": [
    {
     "data": {
      "text/plain": [
       "'I got new tires from them and within two weeks got a flat I took my car to a local mechanic to see if i could get the hole patched but they said the reason I had a flat was because the previous patch had blown  WAIT WHAT I just got the tire and never needed to have it patched This was supposed to be a new tire I took the tire over to Flynns and they told me that someone punctured my tire then tried to patch it So there are resentful tire slashers I find that very unlikely After arguing with the guy and telling him that his logic was far fetched he said hed give me a new tire this time I will never go back to Flynns bc of the way this guy treated me and the simple fact that they gave me a used tire'"
      ]
     },
     "execution_count": 9,
     "metadata": {},
     "output_type": "execute_result"
    }
   ],
   "source": [
    "# and the cleaned version\n",
    "clean_text(df_test['Review'].iloc[0:1].values[0])"
   ]
  },
  {
   "cell_type": "code",
   "execution_count": 10,
   "id": "2ff1ce46",
   "metadata": {},
   "outputs": [],
   "source": [
    "# Step-2: Cleaning Numbers\n",
    "def clean_numbers(x):\n",
    "    if bool(re.search(r'\\d', x)):\n",
    "        x = re.sub(r\"\\d+\", \"#\", str(x)) \n",
    "    return x"
   ]
  },
  {
   "cell_type": "code",
   "execution_count": 11,
   "id": "e6f849bd",
   "metadata": {},
   "outputs": [
    {
     "name": "stdout",
     "output_type": "stream",
     "text": [
      "I am # years old. My cars plate number is # AGL #. Date is April # #.\n"
     ]
    }
   ],
   "source": [
    "#Lets test it.\n",
    "cleaned = clean_numbers('I am 35 years old. My cars plate number is 34 AGL 4576. Date is April 23 2022.')\n",
    "print(cleaned)"
   ]
  },
  {
   "cell_type": "code",
   "execution_count": 12,
   "id": "060479d1",
   "metadata": {},
   "outputs": [
    {
     "name": "stdout",
     "output_type": "stream",
     "text": [
      "this's a text with contraction\n",
      "this is a text with contraction\n"
     ]
    }
   ],
   "source": [
    "# Step-3: Expand Contractions\n",
    "import contractions\n",
    "text = \"this's a text with contraction\"\n",
    "print(text)\n",
    "print(contractions.fix(text))\n"
   ]
  },
  {
   "cell_type": "code",
   "execution_count": 13,
   "id": "823df63c",
   "metadata": {},
   "outputs": [],
   "source": [
    "# Step-4: Convert all uppercase characters to lowercase\n",
    "def to_lower(text):\n",
    "    return text.lower()\n"
   ]
  },
  {
   "cell_type": "code",
   "execution_count": 31,
   "id": "2646e437",
   "metadata": {},
   "outputs": [],
   "source": [
    "# (Optional) Step-5: Spell correction. We will not apply this for now.  \n",
    "from textblob import TextBlob\n",
    "\n",
    "def correct_sentence_spelling(sentence):\n",
    "    sentence = TextBlob(sentence)\n",
    "    result = sentence.correct()\n",
    "    return str(result)"
   ]
  },
  {
   "cell_type": "code",
   "execution_count": 32,
   "id": "477bd7ff",
   "metadata": {},
   "outputs": [
    {
     "data": {
      "text/plain": [
       "'this is a test sentence. I like apple and banana '"
      ]
     },
     "execution_count": 32,
     "metadata": {},
     "output_type": "execute_result"
    }
   ],
   "source": [
    "corrected = correct_sentence_spelling('this is a test senntence. I like applle andd bananana ')\n",
    "str(corrected)"
   ]
  },
  {
   "cell_type": "code",
   "execution_count": null,
   "id": "afff3748",
   "metadata": {},
   "outputs": [],
   "source": []
  },
  {
   "cell_type": "markdown",
   "id": "72efc6b6",
   "metadata": {},
   "source": [
    "Generate a cleaned version of the dataset by performing the above operations and save it. Note that using map is much more faster than iterating over rows when applying a function over whole column.    "
   ]
  },
  {
   "cell_type": "code",
   "execution_count": 14,
   "id": "b3f5675e",
   "metadata": {},
   "outputs": [],
   "source": [
    "df_train_cleaned = df_train.copy()\n",
    "df_train_cleaned['Review'] = df_train_cleaned['Review'].map(lambda Review: clean_text(Review))\n",
    "df_train_cleaned['Review'] = df_train_cleaned['Review'].map(lambda Review: clean_numbers(Review))\n",
    "df_train_cleaned['Review'] = df_train_cleaned['Review'].map(lambda Review: contractions.fix(Review))\n",
    "df_train_cleaned['Review'] = df_train_cleaned['Review'].map(lambda Review: to_lower(Review))\n",
    "\n",
    "del df_train_cleaned['word_count']  # we dont need this columns anymore  \n",
    "df_train_cleaned.to_csv('train_cleaned.csv')"
   ]
  },
  {
   "cell_type": "code",
   "execution_count": 15,
   "id": "07bf6677",
   "metadata": {},
   "outputs": [],
   "source": [
    "df_test_cleaned = df_test.copy()\n",
    "df_test_cleaned['Review'] = df_test_cleaned['Review'].map(lambda Review: clean_text(Review))\n",
    "df_test_cleaned['Review'] = df_test_cleaned['Review'].map(lambda Review: clean_numbers(Review))\n",
    "df_test_cleaned['Review'] = df_test_cleaned['Review'].map(lambda Review: contractions.fix(Review))\n",
    "df_test_cleaned['Review'] = df_test_cleaned['Review'].map(lambda Review: to_lower(Review))\n",
    "\n",
    "del df_test_cleaned['word_count']  # we dont need this columns anymore  \n",
    "df_test_cleaned.to_csv('test_cleaned.csv')"
   ]
  },
  {
   "cell_type": "code",
   "execution_count": 16,
   "id": "32834762",
   "metadata": {},
   "outputs": [
    {
     "data": {
      "text/html": [
       "<div>\n",
       "<style scoped>\n",
       "    .dataframe tbody tr th:only-of-type {\n",
       "        vertical-align: middle;\n",
       "    }\n",
       "\n",
       "    .dataframe tbody tr th {\n",
       "        vertical-align: top;\n",
       "    }\n",
       "\n",
       "    .dataframe thead th {\n",
       "        text-align: right;\n",
       "    }\n",
       "</style>\n",
       "<table border=\"1\" class=\"dataframe\">\n",
       "  <thead>\n",
       "    <tr style=\"text-align: right;\">\n",
       "      <th></th>\n",
       "      <th>Star</th>\n",
       "      <th>Review</th>\n",
       "    </tr>\n",
       "  </thead>\n",
       "  <tbody>\n",
       "    <tr>\n",
       "      <th>649995</th>\n",
       "      <td>5</td>\n",
       "      <td>i had a sprinkler that was gushing pipe broken...</td>\n",
       "    </tr>\n",
       "    <tr>\n",
       "      <th>649996</th>\n",
       "      <td>1</td>\n",
       "      <td>phone calls always go to voicemail and message...</td>\n",
       "    </tr>\n",
       "    <tr>\n",
       "      <th>649997</th>\n",
       "      <td>1</td>\n",
       "      <td>looks like all of the good reviews have gone t...</td>\n",
       "    </tr>\n",
       "    <tr>\n",
       "      <th>649998</th>\n",
       "      <td>5</td>\n",
       "      <td>i was able to once again rely on yelp to provi...</td>\n",
       "    </tr>\n",
       "    <tr>\n",
       "      <th>649999</th>\n",
       "      <td>1</td>\n",
       "      <td>i have been using this company for # months  r...</td>\n",
       "    </tr>\n",
       "  </tbody>\n",
       "</table>\n",
       "</div>"
      ],
      "text/plain": [
       "        Star                                             Review\n",
       "649995     5  i had a sprinkler that was gushing pipe broken...\n",
       "649996     1  phone calls always go to voicemail and message...\n",
       "649997     1  looks like all of the good reviews have gone t...\n",
       "649998     5  i was able to once again rely on yelp to provi...\n",
       "649999     1  i have been using this company for # months  r..."
      ]
     },
     "execution_count": 16,
     "metadata": {},
     "output_type": "execute_result"
    }
   ],
   "source": [
    "# just check the cleaned version\n",
    "df_train_cleaned.tail()"
   ]
  },
  {
   "cell_type": "code",
   "execution_count": 17,
   "id": "c84ccedc",
   "metadata": {},
   "outputs": [
    {
     "data": {
      "text/html": [
       "<div>\n",
       "<style scoped>\n",
       "    .dataframe tbody tr th:only-of-type {\n",
       "        vertical-align: middle;\n",
       "    }\n",
       "\n",
       "    .dataframe tbody tr th {\n",
       "        vertical-align: top;\n",
       "    }\n",
       "\n",
       "    .dataframe thead th {\n",
       "        text-align: right;\n",
       "    }\n",
       "</style>\n",
       "<table border=\"1\" class=\"dataframe\">\n",
       "  <thead>\n",
       "    <tr style=\"text-align: right;\">\n",
       "      <th></th>\n",
       "      <th>Star</th>\n",
       "      <th>Review</th>\n",
       "    </tr>\n",
       "  </thead>\n",
       "  <tbody>\n",
       "    <tr>\n",
       "      <th>0</th>\n",
       "      <td>1</td>\n",
       "      <td>i got new tires from them and within two weeks...</td>\n",
       "    </tr>\n",
       "    <tr>\n",
       "      <th>1</th>\n",
       "      <td>1</td>\n",
       "      <td>do not waste your time  we had two different p...</td>\n",
       "    </tr>\n",
       "    <tr>\n",
       "      <th>2</th>\n",
       "      <td>1</td>\n",
       "      <td>all i can say is the worst we were the only # ...</td>\n",
       "    </tr>\n",
       "    <tr>\n",
       "      <th>3</th>\n",
       "      <td>1</td>\n",
       "      <td>i have been to this restaurant twice and was d...</td>\n",
       "    </tr>\n",
       "    <tr>\n",
       "      <th>4</th>\n",
       "      <td>1</td>\n",
       "      <td>food was not good at all my husband  i ate her...</td>\n",
       "    </tr>\n",
       "  </tbody>\n",
       "</table>\n",
       "</div>"
      ],
      "text/plain": [
       "   Star                                             Review\n",
       "0     1  i got new tires from them and within two weeks...\n",
       "1     1  do not waste your time  we had two different p...\n",
       "2     1  all i can say is the worst we were the only # ...\n",
       "3     1  i have been to this restaurant twice and was d...\n",
       "4     1  food was not good at all my husband  i ate her..."
      ]
     },
     "execution_count": 17,
     "metadata": {},
     "output_type": "execute_result"
    }
   ],
   "source": [
    "df_test_cleaned.head()"
   ]
  },
  {
   "cell_type": "markdown",
   "id": "3184f0bf",
   "metadata": {},
   "source": [
    "### To skip the above-mentioned data preprocessing steps, we can read cleaned data from the disk. \n",
    "df_train_cleaned = pd.read_csv('train_cleaned.csv')\n",
    "df_train_cleaned = df_train_cleaned[['Star', 'Review']]\n",
    "df_test_cleaned = pd.read_csv('test_cleaned.csv')\n",
    "df_test_cleaned = df_test_cleaned[['Star', 'Review']]"
   ]
  },
  {
   "cell_type": "markdown",
   "id": "b3f8fab4",
   "metadata": {},
   "source": [
    "## Tokenization"
   ]
  },
  {
   "cell_type": "code",
   "execution_count": 122,
   "id": "f472b26e",
   "metadata": {},
   "outputs": [
    {
     "name": "stdout",
     "output_type": "stream",
     "text": [
      "['', '[UNK]', 'the', 'and', 'i', 'a', 'to', 'was', 'of', 'not']\n",
      "40000\n"
     ]
    }
   ],
   "source": [
    "from tensorflow.keras.layers import TextVectorization\n",
    "import tensorflow as tf\n",
    "from tensorflow import keras\n",
    "\n",
    "sequence_length=60\n",
    "vectorizer = TextVectorization(max_tokens=40000, output_sequence_length=sequence_length)\n",
    "text_ds = tf.data.Dataset.from_tensor_slices(df_train_cleaned['Review']).batch(8) \n",
    "vectorizer.adapt(text_ds)\n",
    "\n",
    "voc = vectorizer.get_vocabulary()\n",
    "word_index = dict(zip(voc, range(len(voc))))\n",
    "\n",
    "print(voc[0:10])\n",
    "print(len(voc))"
   ]
  },
  {
   "cell_type": "code",
   "execution_count": null,
   "id": "f21d35f6",
   "metadata": {},
   "outputs": [],
   "source": [
    "#Download Glove if not already done\n",
    "!wget http://nlp.stanford.edu/data/glove.6B.zip\n",
    "!unzip glove*.zip"
   ]
  },
  {
   "cell_type": "code",
   "execution_count": 123,
   "id": "acd5f133",
   "metadata": {},
   "outputs": [
    {
     "name": "stdout",
     "output_type": "stream",
     "text": [
      "Found 400000 word vectors.\n"
     ]
    }
   ],
   "source": [
    "import os\n",
    "\n",
    "path_to_glove_file = os.path.join(\"glove.6B.50d.txt\")\n",
    "embeddings_index = {}\n",
    "with open(path_to_glove_file) as f:\n",
    "    for line in f:\n",
    "        word, coefs = line.split(maxsplit=1)\n",
    "        coefs = np.fromstring(coefs, \"f\", sep=\" \")\n",
    "        embeddings_index[word] = coefs\n",
    "\n",
    "print(\"Found %s word vectors.\" % len(embeddings_index))"
   ]
  },
  {
   "cell_type": "code",
   "execution_count": 124,
   "id": "eab1f440",
   "metadata": {},
   "outputs": [
    {
     "name": "stdout",
     "output_type": "stream",
     "text": [
      "Converted 31236 words (8764 misses)\n"
     ]
    }
   ],
   "source": [
    "num_tokens = len(voc) + 2\n",
    "embedding_dim = 50 \n",
    "hits = 0\n",
    "misses = 0\n",
    "\n",
    "# Prepare embedding matrix\n",
    "embedding_matrix = np.zeros((num_tokens, embedding_dim))\n",
    "for word, i in word_index.items():\n",
    "    embedding_vector = embeddings_index.get(word)\n",
    "    if embedding_vector is not None:\n",
    "        # Words not found in embedding index will be all-zeros.\n",
    "        # This includes the representation for \"padding\" and \"OOV\"\n",
    "        embedding_matrix[i] = embedding_vector\n",
    "        hits += 1\n",
    "    else:\n",
    "        misses += 1\n",
    "print(\"Converted {} words ({} misses)\".format(hits, misses))"
   ]
  },
  {
   "cell_type": "markdown",
   "id": "2ab09a1a",
   "metadata": {},
   "source": [
    "## Neural Network"
   ]
  },
  {
   "cell_type": "code",
   "execution_count": 125,
   "id": "982e76f1",
   "metadata": {},
   "outputs": [],
   "source": [
    "from keras.layers import *\n",
    "from keras.models import *\n",
    "from keras import backend as K"
   ]
  },
  {
   "cell_type": "code",
   "execution_count": 127,
   "id": "2a6bfaf1",
   "metadata": {},
   "outputs": [
    {
     "data": {
      "text/plain": [
       "<keras.callbacks.EarlyStopping at 0x7f0c4ce669b0>"
      ]
     },
     "execution_count": 127,
     "metadata": {},
     "output_type": "execute_result"
    }
   ],
   "source": [
    "tf.keras.callbacks.EarlyStopping(\n",
    "    monitor=\"val_loss\",\n",
    "    min_delta=0,\n",
    "    patience=2,\n",
    "    verbose=0,\n",
    "    mode=\"auto\",\n",
    "    baseline=None,\n",
    "    restore_best_weights=True,\n",
    ")\n"
   ]
  },
  {
   "cell_type": "code",
   "execution_count": 128,
   "id": "1e30de35",
   "metadata": {},
   "outputs": [],
   "source": [
    "from tensorflow.keras.layers import Embedding\n",
    "\n",
    "embedding_layer = Embedding(\n",
    "    num_tokens,\n",
    "    embedding_dim,\n",
    "    embeddings_initializer=keras.initializers.Constant(embedding_matrix),\n",
    "    trainable=False,\n",
    ")"
   ]
  },
  {
   "cell_type": "code",
   "execution_count": 130,
   "id": "12b92827",
   "metadata": {},
   "outputs": [],
   "source": [
    "x_test = vectorizer(np.array([[s] for s in df_test_cleaned['Review']])).numpy()"
   ]
  },
  {
   "cell_type": "code",
   "execution_count": 131,
   "id": "383fa887",
   "metadata": {},
   "outputs": [
    {
     "name": "stdout",
     "output_type": "stream",
     "text": [
      "0\n",
      "100000\n",
      "200000\n",
      "300000\n",
      "400000\n",
      "500000\n",
      "600000\n"
     ]
    }
   ],
   "source": [
    "# Due to memory limitation, we vectorize train data part by part in loop\n",
    "x_train = []\n",
    "step = 10000\n",
    "for i in range(0,df_train_cleaned['Review'].size,step):\n",
    "    if i%100000 == 0:\n",
    "        print(i)\n",
    "    vector = vectorizer(np.array([[s] for s in df_train_cleaned['Review'].iloc[i:i+step]])).numpy()\n",
    "    x_train.append(vector)\n",
    "x_train = np.array(x_train).reshape(df_train_cleaned['Review'].size,sequence_length)"
   ]
  },
  {
   "cell_type": "code",
   "execution_count": 132,
   "id": "38c7e09b",
   "metadata": {},
   "outputs": [],
   "source": [
    "from sklearn.preprocessing import LabelEncoder\n",
    "from tensorflow.keras.utils import to_categorical\n",
    "\n",
    "train_set_labels = np.array(df_train_cleaned['Star'])\n",
    "test_set_labels = np.array(df_test_cleaned['Star'])\n",
    "label_encoder = LabelEncoder()\n",
    "train_y = label_encoder.fit_transform(train_set_labels)\n",
    "train_y_onehot = to_categorical(train_y)\n",
    "test_y = label_encoder.fit_transform(test_set_labels)\n",
    "test_y_onehot = to_categorical(test_y)"
   ]
  },
  {
   "cell_type": "code",
   "execution_count": 134,
   "id": "291c317b",
   "metadata": {},
   "outputs": [
    {
     "data": {
      "text/plain": [
       "array([[0., 0., 0., 0., 1.],\n",
       "       [0., 1., 0., 0., 0.],\n",
       "       [0., 0., 0., 1., 0.],\n",
       "       [0., 0., 0., 1., 0.],\n",
       "       [1., 0., 0., 0., 0.]], dtype=float32)"
      ]
     },
     "execution_count": 134,
     "metadata": {},
     "output_type": "execute_result"
    }
   ],
   "source": [
    "train_y_onehot[0:5]"
   ]
  },
  {
   "cell_type": "code",
   "execution_count": 135,
   "id": "906bc882",
   "metadata": {},
   "outputs": [
    {
     "data": {
      "text/plain": [
       "((650000, 60), (650000, 5), (50000, 60), (50000, 5))"
      ]
     },
     "execution_count": 135,
     "metadata": {},
     "output_type": "execute_result"
    }
   ],
   "source": [
    "x_train.shape,train_y_onehot.shape,x_test.shape,test_y_onehot.shape"
   ]
  },
  {
   "cell_type": "markdown",
   "id": "3e418212",
   "metadata": {},
   "source": [
    "## Model-1"
   ]
  },
  {
   "cell_type": "code",
   "execution_count": 129,
   "id": "e0c274d3",
   "metadata": {},
   "outputs": [
    {
     "name": "stdout",
     "output_type": "stream",
     "text": [
      "Model: \"model_1\"\n",
      "_________________________________________________________________\n",
      "Layer (type)                 Output Shape              Param #   \n",
      "=================================================================\n",
      "input_2 (InputLayer)         [(None, None)]            0         \n",
      "_________________________________________________________________\n",
      "embedding_1 (Embedding)      (None, None, 50)          2000100   \n",
      "_________________________________________________________________\n",
      "bidirectional_2 (Bidirection (None, None, 128)         58880     \n",
      "_________________________________________________________________\n",
      "bidirectional_3 (Bidirection (None, 128)               98816     \n",
      "_________________________________________________________________\n",
      "dense_2 (Dense)              (None, 128)               16512     \n",
      "_________________________________________________________________\n",
      "dense_3 (Dense)              (None, 5)                 645       \n",
      "=================================================================\n",
      "Total params: 2,174,953\n",
      "Trainable params: 174,853\n",
      "Non-trainable params: 2,000,100\n",
      "_________________________________________________________________\n"
     ]
    }
   ],
   "source": [
    "from tensorflow.keras import layers\n",
    "class_number = 5\n",
    "\n",
    "int_sequences_input = keras.Input(shape=(None,), dtype=\"int64\")\n",
    "embedded_sequences = embedding_layer(int_sequences_input)\n",
    "x = layers.Bidirectional(tf.keras.layers.LSTM(64,dropout=0.2, return_sequences=True, recurrent_dropout=0.2))(embedded_sequences)\n",
    "x = layers.Bidirectional(tf.keras.layers.LSTM(64,dropout=0.2, recurrent_dropout=0.2))(x)\n",
    "x = layers.Dense(128, activation=\"relu\")(x)\n",
    "x = layers.Dense(class_number, activation=\"softmax\")(x)\n",
    "model = keras.Model(inputs=int_sequences_input, outputs = x)\n",
    "model.summary()"
   ]
  },
  {
   "cell_type": "code",
   "execution_count": 133,
   "id": "4a8c2ab2",
   "metadata": {},
   "outputs": [],
   "source": [
    "callback = tf.keras.callbacks.EarlyStopping(monitor='val_loss', patience=2)"
   ]
  },
  {
   "cell_type": "code",
   "execution_count": 136,
   "id": "69c23263",
   "metadata": {},
   "outputs": [
    {
     "name": "stdout",
     "output_type": "stream",
     "text": [
      "Epoch 1/10\n",
      "5079/5079 [==============================] - 690s 135ms/step - loss: 1.2303 - acc: 0.4602 - val_loss: 1.1320 - val_acc: 0.5054\n",
      "Epoch 2/10\n",
      "5079/5079 [==============================] - 678s 134ms/step - loss: 1.1255 - acc: 0.5080 - val_loss: 1.0820 - val_acc: 0.5280\n",
      "Epoch 3/10\n",
      "5079/5079 [==============================] - 686s 135ms/step - loss: 1.0863 - acc: 0.5254 - val_loss: 1.0531 - val_acc: 0.5415\n",
      "Epoch 4/10\n",
      "5079/5079 [==============================] - 692s 136ms/step - loss: 1.0630 - acc: 0.5360 - val_loss: 1.0439 - val_acc: 0.5416\n",
      "Epoch 5/10\n",
      "5079/5079 [==============================] - 699s 138ms/step - loss: 1.0466 - acc: 0.5426 - val_loss: 1.0291 - val_acc: 0.5514\n",
      "Epoch 6/10\n",
      "5079/5079 [==============================] - 795s 157ms/step - loss: 1.0344 - acc: 0.5487 - val_loss: 1.0215 - val_acc: 0.5534\n",
      "Epoch 7/10\n",
      "5079/5079 [==============================] - 821s 162ms/step - loss: 1.0243 - acc: 0.5526 - val_loss: 1.0125 - val_acc: 0.5565\n",
      "Epoch 8/10\n",
      "5079/5079 [==============================] - 832s 164ms/step - loss: 1.0166 - acc: 0.5562 - val_loss: 1.0051 - val_acc: 0.5614\n",
      "Epoch 9/10\n",
      "5079/5079 [==============================] - 774s 152ms/step - loss: 1.0113 - acc: 0.5584 - val_loss: 0.9978 - val_acc: 0.5644\n",
      "Epoch 10/10\n",
      "5079/5079 [==============================] - 785s 154ms/step - loss: 1.0062 - acc: 0.5602 - val_loss: 0.9987 - val_acc: 0.5641\n",
      "INFO:tensorflow:Assets written to: TextClassifier_20220424_v0/assets\n"
     ]
    }
   ],
   "source": [
    "model.compile(loss=\"categorical_crossentropy\", optimizer=\"adam\", metrics=[\"acc\"])\n",
    "history = model.fit(x_train, train_y_onehot, batch_size=128, epochs=10,validation_data=(x_test,test_y_onehot),callbacks=[callback],verbose=1)\n",
    "model.save(\"TextClassifier_20220424_v0\")"
   ]
  },
  {
   "cell_type": "code",
   "execution_count": 175,
   "id": "4a9334ed",
   "metadata": {},
   "outputs": [
    {
     "data": {
      "text/plain": [
       "Text(0.5, 0, 'epoch')"
      ]
     },
     "execution_count": 175,
     "metadata": {},
     "output_type": "execute_result"
    },
    {
     "data": {
      "image/png": "[encoded data removed]",
      "text/plain": [
       "<Figure size 1152x432 with 2 Axes>"
      ]
     },
     "metadata": {
      "needs_background": "light"
     },
     "output_type": "display_data"
    }
   ],
   "source": [
    "# visualizing losses and accuracy\n",
    "train_loss = history.history['loss']\n",
    "val_loss   = history.history['val_loss']\n",
    "train_acc  = history.history['acc']\n",
    "val_acc    = history.history['val_acc']\n",
    "xc         = range(1,11)\n",
    "\n",
    "plt.figure(figsize = (16,6))\n",
    "plt.subplot(121)\n",
    "plt.plot(xc, train_loss, label='train loss')\n",
    "plt.plot(xc, val_loss, label='test loss')\n",
    "plt.legend()\n",
    "plt.title('Loss')\n",
    "plt.xlabel('epoch')\n",
    "plt.subplot(122)\n",
    "plt.plot(xc, train_acc, label='train accuracy')\n",
    "plt.plot(xc, val_acc, label='test accuracy')\n",
    "plt.legend()\n",
    "plt.title('Accuracy')\n",
    "plt.xlabel('epoch')"
   ]
  },
  {
   "cell_type": "code",
   "execution_count": 170,
   "id": "46f83959",
   "metadata": {},
   "outputs": [
    {
     "data": {
      "text/plain": [
       "<sklearn.metrics._plot.confusion_matrix.ConfusionMatrixDisplay at 0x7f0c8aaf87f0>"
      ]
     },
     "execution_count": 170,
     "metadata": {},
     "output_type": "execute_result"
    },
    {
     "data": {
      "image/png": "[encoded data removed]",
      "text/plain": [
       "<Figure size 432x288 with 2 Axes>"
      ]
     },
     "metadata": {
      "needs_background": "light"
     },
     "output_type": "display_data"
    }
   ],
   "source": [
    "from sklearn.metrics import confusion_matrix, ConfusionMatrixDisplay\n",
    "prediction = model.predict(x_test)\n",
    "y_classes = prediction.argmax(axis=-1)\n",
    "cm = confusion_matrix(test_y, y_classes)\n",
    "cmd = ConfusionMatrixDisplay(cm, display_labels=['1 Star','2 Stars','3 Stars', '4 Starts', '5 Stars'])\n",
    "cmd.plot()"
   ]
  },
  {
   "cell_type": "markdown",
   "id": "4ba2b319",
   "metadata": {},
   "source": [
    "## Model 2 \n",
    "\n",
    "We make regression in this model rather than classification while keeping all other parameters the same.  "
   ]
  },
  {
   "cell_type": "code",
   "execution_count": 172,
   "id": "9e0b8b9e",
   "metadata": {},
   "outputs": [
    {
     "name": "stdout",
     "output_type": "stream",
     "text": [
      "Model: \"model_3\"\n",
      "_________________________________________________________________\n",
      "Layer (type)                 Output Shape              Param #   \n",
      "=================================================================\n",
      "input_4 (InputLayer)         [(None, None)]            0         \n",
      "_________________________________________________________________\n",
      "embedding_1 (Embedding)      (None, None, 50)          2000100   \n",
      "_________________________________________________________________\n",
      "bidirectional_6 (Bidirection (None, None, 128)         58880     \n",
      "_________________________________________________________________\n",
      "bidirectional_7 (Bidirection (None, 128)               98816     \n",
      "_________________________________________________________________\n",
      "dense_6 (Dense)              (None, 128)               16512     \n",
      "_________________________________________________________________\n",
      "dense_7 (Dense)              (None, 1)                 129       \n",
      "=================================================================\n",
      "Total params: 2,174,437\n",
      "Trainable params: 174,337\n",
      "Non-trainable params: 2,000,100\n",
      "_________________________________________________________________\n"
     ]
    }
   ],
   "source": [
    "from tensorflow.keras import layers\n",
    "class_number = 1\n",
    "\n",
    "int_sequences_input = keras.Input(shape=(None,), dtype=\"int64\")\n",
    "embedded_sequences = embedding_layer(int_sequences_input)\n",
    "x = layers.Bidirectional(tf.keras.layers.LSTM(64,dropout=0.2, return_sequences=True, recurrent_dropout=0.2))(embedded_sequences)\n",
    "x = layers.Bidirectional(tf.keras.layers.LSTM(64,dropout=0.2, recurrent_dropout=0.2))(x)\n",
    "x = layers.Dense(128, activation=\"relu\")(x)\n",
    "x = layers.Dense(class_number, activation=\"linear\")(x)\n",
    "model2 = keras.Model(inputs=int_sequences_input, outputs = x)\n",
    "model2.summary()"
   ]
  },
  {
   "cell_type": "code",
   "execution_count": 173,
   "id": "e30a67c0",
   "metadata": {},
   "outputs": [
    {
     "name": "stdout",
     "output_type": "stream",
     "text": [
      "Epoch 1/10\n",
      "5079/5079 [==============================] - 713s 139ms/step - loss: 1.0919 - mse: 1.0919 - val_loss: 0.9090 - val_mse: 0.9090\n",
      "Epoch 2/10\n",
      "5079/5079 [==============================] - 722s 142ms/step - loss: 0.9042 - mse: 0.9042 - val_loss: 0.8307 - val_mse: 0.8307\n",
      "Epoch 3/10\n",
      "5079/5079 [==============================] - 719s 142ms/step - loss: 0.8394 - mse: 0.8394 - val_loss: 0.7763 - val_mse: 0.7763\n",
      "Epoch 4/10\n",
      "5079/5079 [==============================] - 686s 135ms/step - loss: 0.8013 - mse: 0.8013 - val_loss: 0.7593 - val_mse: 0.7593\n",
      "Epoch 5/10\n",
      "5079/5079 [==============================] - 699s 138ms/step - loss: 0.7733 - mse: 0.7733 - val_loss: 0.7429 - val_mse: 0.7429\n",
      "Epoch 6/10\n",
      "5079/5079 [==============================] - 686s 135ms/step - loss: 0.7524 - mse: 0.7524 - val_loss: 0.7174 - val_mse: 0.7174\n",
      "Epoch 7/10\n",
      "5079/5079 [==============================] - 686s 135ms/step - loss: 0.7360 - mse: 0.7360 - val_loss: 0.7054 - val_mse: 0.7054\n",
      "Epoch 8/10\n",
      "5079/5079 [==============================] - 684s 135ms/step - loss: 0.7239 - mse: 0.7239 - val_loss: 0.7095 - val_mse: 0.7095\n",
      "Epoch 9/10\n",
      "5079/5079 [==============================] - 713s 140ms/step - loss: 0.7136 - mse: 0.7136 - val_loss: 0.6831 - val_mse: 0.6831\n",
      "Epoch 10/10\n",
      "5079/5079 [==============================] - 748s 147ms/step - loss: 0.7045 - mse: 0.7045 - val_loss: 0.6762 - val_mse: 0.6762\n",
      "INFO:tensorflow:Assets written to: TextClassifier_model2/assets\n"
     ]
    }
   ],
   "source": [
    "model2.compile(loss=\"mean_squared_error\", optimizer=\"adam\", metrics=[\"mse\"])\n",
    "history2 = model2.fit(x_train, train_y, batch_size=128, epochs=10,validation_data=(x_test,test_y),callbacks=[callback],verbose=1)\n",
    "model2.save(\"TextClassifier_model2\")"
   ]
  },
  {
   "cell_type": "code",
   "execution_count": 178,
   "id": "5d1fbb2a",
   "metadata": {},
   "outputs": [
    {
     "data": {
      "text/plain": [
       "Text(0.5, 0, 'epoch')"
      ]
     },
     "execution_count": 178,
     "metadata": {},
     "output_type": "execute_result"
    },
    {
     "data": {
      "image/png": "[encoded data removed]",
      "text/plain": [
       "<Figure size 576x432 with 1 Axes>"
      ]
     },
     "metadata": {
      "needs_background": "light"
     },
     "output_type": "display_data"
    }
   ],
   "source": [
    "# visualizing losses and accuracy\n",
    "train_loss = history2.history['loss']\n",
    "val_loss   = history2.history['val_loss']\n",
    "xc         = range(1,11)\n",
    "\n",
    "plt.figure(figsize = (8,6))\n",
    "plt.plot(xc, train_loss, label='train loss')\n",
    "plt.plot(xc, val_loss, label='test loss')\n",
    "plt.legend()\n",
    "plt.title('Model2 Loss')\n",
    "plt.xlabel('epoch')"
   ]
  },
  {
   "cell_type": "code",
   "execution_count": 184,
   "id": "231660c4",
   "metadata": {},
   "outputs": [],
   "source": [
    "prediction = model2.predict(x_test)"
   ]
  },
  {
   "cell_type": "code",
   "execution_count": 186,
   "id": "da43c080",
   "metadata": {},
   "outputs": [
    {
     "name": "stdout",
     "output_type": "stream",
     "text": [
      "[[0.49319974]\n",
      " [0.02997336]\n",
      " [0.13346753]\n",
      " ...\n",
      " [2.8586879 ]\n",
      " [0.21140161]\n",
      " [1.9131997 ]]\n"
     ]
    }
   ],
   "source": [
    "prediction = np.array(prediction)\n",
    "print(prediction)"
   ]
  },
  {
   "cell_type": "code",
   "execution_count": 202,
   "id": "08cc4a96",
   "metadata": {},
   "outputs": [
    {
     "name": "stdout",
     "output_type": "stream",
     "text": [
      "[[0]\n",
      " [0]\n",
      " [0]\n",
      " ...\n",
      " [3]\n",
      " [0]\n",
      " [2]]\n"
     ]
    }
   ],
   "source": [
    "prediction_rounded = np.round(prediction)\n",
    "prediction_rounded = prediction_rounded.astype(int)\n",
    "prediction_rounded = np.clip(prediction_rounded,0,4,out=prediction_rounded)\n",
    "print(prediction_rounded)"
   ]
  },
  {
   "cell_type": "code",
   "execution_count": 200,
   "id": "965a4a39",
   "metadata": {},
   "outputs": [
    {
     "data": {
      "text/plain": [
       "array([0, 0, 0, ..., 3, 1, 0])"
      ]
     },
     "execution_count": 200,
     "metadata": {},
     "output_type": "execute_result"
    }
   ],
   "source": [
    "test_y"
   ]
  },
  {
   "cell_type": "code",
   "execution_count": 203,
   "id": "4b32bd8d",
   "metadata": {},
   "outputs": [
    {
     "data": {
      "text/plain": [
       "<sklearn.metrics._plot.confusion_matrix.ConfusionMatrixDisplay at 0x7f0c9eac3240>"
      ]
     },
     "execution_count": 203,
     "metadata": {},
     "output_type": "execute_result"
    },
    {
     "data": {
      "image/png": "[encoded data removed]",
      "text/plain": [
       "<Figure size 432x288 with 2 Axes>"
      ]
     },
     "metadata": {
      "needs_background": "light"
     },
     "output_type": "display_data"
    }
   ],
   "source": [
    "from sklearn.metrics import confusion_matrix, ConfusionMatrixDisplay\n",
    "cm = confusion_matrix(test_y, prediction_rounded)\n",
    "cmd = ConfusionMatrixDisplay(cm, display_labels=['1 Star','2 Stars','3 Stars', '4 Starts', '5 Stars'])\n",
    "cmd.plot()"
   ]
  },
  {
   "cell_type": "code",
   "execution_count": 207,
   "id": "f9c0b129",
   "metadata": {},
   "outputs": [
    {
     "name": "stdout",
     "output_type": "stream",
     "text": [
      "Model 2 accuracy:  52.616 %\n"
     ]
    }
   ],
   "source": [
    "from sklearn.metrics import accuracy_score\n",
    "accuracy = accuracy_score(test_y,prediction_rounded,normalize=True,sample_weight=None)\n",
    "print(\"Model 2 accuracy: \",accuracy*100, '%')"
   ]
  },
  {
   "cell_type": "code",
   "execution_count": null,
   "id": "199ba009",
   "metadata": {},
   "outputs": [],
   "source": []
  }
 ],
 "metadata": {
  "kernelspec": {
   "display_name": "Python 3",
   "language": "python",
   "name": "python3"
  },
  "language_info": {
   "codemirror_mode": {
    "name": "ipython",
    "version": 3
   },
   "file_extension": ".py",
   "mimetype": "text/x-python",
   "name": "python",
   "nbconvert_exporter": "python",
   "pygments_lexer": "ipython3",
   "version": "3.6.9"
  }
 },
 "nbformat": 4,
 "nbformat_minor": 5
}
